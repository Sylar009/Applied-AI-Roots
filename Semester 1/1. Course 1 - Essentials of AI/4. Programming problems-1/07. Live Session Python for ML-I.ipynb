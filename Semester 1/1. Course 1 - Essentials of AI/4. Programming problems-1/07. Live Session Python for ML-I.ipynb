{
  "cells": [
    {
      "cell_type": "markdown",
      "metadata": {
        "id": "doD1AGLSjLfH"
      },
      "source": [
        "# Second Largest Element : Code bug and fixes"
      ]
    },
    {
      "cell_type": "code",
      "execution_count": null,
      "metadata": {
        "colab": {
          "base_uri": "https://localhost:8080/"
        },
        "id": "xoaoqD3Aefgk",
        "outputId": "4c9cdba9-ef67-4777-cb2d-3fe7f4a734bd"
      },
      "outputs": [],
      "source": [
        "# second largest number\n",
        "# v0.1\n",
        "# Good idea to write your test cases to build the logic\n",
        "# sample input: 1,2,3,4,6,6 =>1\n",
        "# sample input: 3,2,3 => 2\n",
        "# sample input: 1,1,1 => Error\n",
        "# sample input: 1 => Error\n",
        "\n",
        "numberString = input()\n",
        "\n",
        "# split the numberString and convert it to a list of numbers\n",
        "l = [ int(i) for i in  numberString.split(',')] \n",
        "n=len(l)\n",
        "\n",
        "# boundary case\n",
        "if n<2:\n",
        "    print(\"Error\")\n",
        "    exit()\n",
        "\n",
        "# initialize firstMax and secondMax\n",
        "firstMax=max(l[0],l[1]) \n",
        "secondMax=min(l[0],l[1])\n",
        "\n",
        "\n",
        "# iterate\n",
        "for i in range(2,n): \n",
        "    if l[i]>firstMax:  # test case: 3,2,4\n",
        "        secondMax=firstMax \n",
        "        firstMax=l[i] \n",
        "    elif l[i]>secondMax and  firstMax != l[i]: # test case: 3,2,3\n",
        "        secondMax=l[i]\n",
        "\n",
        "# Boundary case: input: 1,1,1 => there is no second largest element\n",
        "if firstMax==secondMax:\n",
        "    print(\"Error\")\n",
        "else:\n",
        "    print(secondMax)\n",
        "\n"
      ]
    },
    {
      "cell_type": "code",
      "execution_count": null,
      "metadata": {
        "colab": {
          "base_uri": "https://localhost:8080/"
        },
        "id": "EDPOvsBIffuz",
        "outputId": "eccdf02b-8602-4cbd-bb63-1acfe50e7491"
      },
      "outputs": [],
      "source": [
        "\n",
        "NEG_INF = float('-inf')\n",
        "print(NEG_INF)\n",
        "\n",
        "if NEG_INF < -99999999999999999999999999999999999999:\n",
        "  print(\"yes\")\n",
        "\n",
        "\n",
        "if NEG_INF==float('-inf'):\n",
        "  print(\"comaprison works\")"
      ]
    },
    {
      "cell_type": "code",
      "execution_count": null,
      "metadata": {
        "colab": {
          "base_uri": "https://localhost:8080/"
        },
        "id": "7FbmspCxf4Au",
        "outputId": "c645612f-101a-47a9-f9e2-0775a002fa8e"
      },
      "outputs": [],
      "source": [
        "#v0.2\n",
        "# Good idea to write your test cases to build the logic\n",
        "# sample input: 1,2,3,4,6,6 =>1\n",
        "# sample input: 3,2,3 => 2\n",
        "# sample input: 1,1,1 => Error\n",
        "# sample input: 1 => Error\n",
        "# Sample input: 1,1,0 => 0\n",
        "\n",
        "numberString = input()\n",
        "\n",
        "# split the numberString and convert it to a list of numbers\n",
        "l = [ int(i) for i in  numberString.split(',')] \n",
        "n=len(l)\n",
        "\n",
        "# boundary case\n",
        "if n<2:\n",
        "    print(\"Error\")\n",
        "    exit()\n",
        "\n",
        "# initialize firstMax and secondMax\n",
        "NEG_INF = float('-inf')\n",
        "\n",
        "firstMax=NEG_INF \n",
        "secondMax=NEG_INF\n",
        "\n",
        "\n",
        "# iterate\n",
        "for i in range(0,n): # all elements of the array\n",
        "    if l[i]>firstMax:  # test case: 3,2,4\n",
        "        secondMax=firstMax \n",
        "        firstMax=l[i] \n",
        "    elif l[i]>secondMax and  firstMax != l[i]: # test case: 3,2,3\n",
        "        secondMax=l[i]\n",
        "\n",
        "# Boundary case: input: 1,1,1 => there is no second largest element\n",
        "if firstMax==secondMax:\n",
        "    print(\"Error\")\n",
        "else:\n",
        "    print(secondMax)\n",
        "\n",
        "\n"
      ]
    },
    {
      "cell_type": "code",
      "execution_count": null,
      "metadata": {
        "colab": {
          "base_uri": "https://localhost:8080/"
        },
        "id": "N5MHG1bJiAJ6",
        "outputId": "6187a969-9c98-4c29-8fbb-9bc989b40beb"
      },
      "outputs": [],
      "source": [
        "#v0.2\n",
        "# Good idea to write your test cases to build the logic\n",
        "# sample input: 1,2,3,4,6,6 =>1\n",
        "# sample input: 3,2,3 => 2\n",
        "# sample input: 1,1,1 => Error\n",
        "# sample input: 1 => Error\n",
        "# Sample input: 1,1,0 => 0\n",
        "\n",
        "numberString = input()\n",
        "\n",
        "# split the numberString and convert it to a list of numbers\n",
        "l = [ int(i) for i in  numberString.split(',')] \n",
        "n=len(l)\n",
        "\n",
        "# boundary case\n",
        "if n<2:\n",
        "    print(\"Error\")\n",
        "    exit()\n",
        "\n",
        "# initialize firstMax and secondMax\n",
        "NEG_INF = float('-inf')\n",
        "\n",
        "firstMax=NEG_INF \n",
        "secondMax=NEG_INF\n",
        "\n",
        "\n",
        "# iterate\n",
        "for i in range(0,n): # all elements of the array\n",
        "    if l[i]>firstMax:  # test case: 3,2,4\n",
        "        secondMax=firstMax \n",
        "        firstMax=l[i] \n",
        "    elif l[i]>secondMax and  firstMax != l[i]: # test case: 3,2,3\n",
        "        secondMax=l[i]\n",
        "\n",
        "# Boundary case: input: 1,1,1 => there is no second largest element\n",
        "if firstMax==secondMax:\n",
        "    print(\"Error\")\n",
        "else:\n",
        "    print(secondMax)\n",
        "\n",
        "\n"
      ]
    },
    {
      "cell_type": "code",
      "execution_count": null,
      "metadata": {
        "colab": {
          "base_uri": "https://localhost:8080/"
        },
        "id": "L1tptZSyiHBI",
        "outputId": "ac8b52b7-fb8e-4bad-abc6-8f35992e5df2"
      },
      "outputs": [],
      "source": [
        "#v0.3\n",
        "# Good idea to write your test cases to build the logic\n",
        "# sample input: 1,2,3,4,6,6 =>1\n",
        "# sample input: 3,2,3 => 2\n",
        "# sample input: 1,1,1 => Error\n",
        "# sample input: 1 => Error\n",
        "# Sample input: 1,1,0 => 0\n",
        "\n",
        "numberString = input()\n",
        "\n",
        "# split the numberString and convert it to a list of numbers\n",
        "l = [ int(i) for i in  numberString.split(',')] \n",
        "n=len(l)\n",
        "\n",
        "# boundary case\n",
        "if n<2:\n",
        "    print(\"Error\")\n",
        "    exit()\n",
        "\n",
        "# initialize firstMax and secondMax\n",
        "NEG_INF = float('-inf')\n",
        "\n",
        "firstMax=NEG_INF \n",
        "secondMax=NEG_INF\n",
        "\n",
        "\n",
        "# iterate\n",
        "for i in range(0,n): # all elements of the array\n",
        "    if l[i]>firstMax:  # test case: 3,2,4\n",
        "        secondMax=firstMax \n",
        "        firstMax=l[i] \n",
        "    elif l[i]>secondMax and  firstMax != l[i]: # test case: 3,2,3\n",
        "        secondMax=l[i]\n",
        "\n",
        "# Boundary case: input: 1,1,1 => there is no second largest element\n",
        "if firstMax==secondMax or secondMax==NEG_INF:\n",
        "    print(\"Error\")\n",
        "else:\n",
        "    print(secondMax)\n",
        "\n",
        "\n"
      ]
    },
    {
      "cell_type": "markdown",
      "metadata": {
        "id": "UE0SX3_ukZow"
      },
      "source": [
        "# Check if int or string"
      ]
    },
    {
      "cell_type": "code",
      "execution_count": null,
      "metadata": {
        "colab": {
          "base_uri": "https://localhost:8080/"
        },
        "id": "cKwNFUVTjKAs",
        "outputId": "d6bde45b-bc3e-4304-ebd0-1e08645dee16"
      },
      "outputs": [],
      "source": [
        "a=10\n",
        "print(type(a))"
      ]
    },
    {
      "cell_type": "markdown",
      "metadata": {
        "id": "yZd8EbDvjagl"
      },
      "source": []
    },
    {
      "cell_type": "code",
      "execution_count": null,
      "metadata": {
        "colab": {
          "base_uri": "https://localhost:8080/"
        },
        "id": "77kAyKkIjZyn",
        "outputId": "d50bb341-ec31-4cdd-cb8c-09bb3a867dde"
      },
      "outputs": [],
      "source": [
        "s = \"abcdef\"\n",
        "print(type(s))"
      ]
    },
    {
      "cell_type": "code",
      "execution_count": null,
      "metadata": {
        "colab": {
          "base_uri": "https://localhost:8080/"
        },
        "id": "5DD6TQQHkrMc",
        "outputId": "c6495117-568a-4966-9854-31dcbe99e3ea"
      },
      "outputs": [],
      "source": [
        "print( isinstance(a,int) )"
      ]
    },
    {
      "cell_type": "code",
      "execution_count": null,
      "metadata": {
        "colab": {
          "base_uri": "https://localhost:8080/"
        },
        "id": "iAocs2E6kyf-",
        "outputId": "d37d16ff-557d-414e-e7f0-1b1593bf3545"
      },
      "outputs": [],
      "source": [
        "print( isinstance(a,str) )"
      ]
    },
    {
      "cell_type": "code",
      "execution_count": null,
      "metadata": {
        "colab": {
          "base_uri": "https://localhost:8080/"
        },
        "id": "zQoPlMa2k4rY",
        "outputId": "37d7bd40-b032-4827-a806-bffa4bea2ebf"
      },
      "outputs": [],
      "source": [
        "print( isinstance(s,str) )"
      ]
    },
    {
      "cell_type": "code",
      "execution_count": null,
      "metadata": {
        "colab": {
          "base_uri": "https://localhost:8080/"
        },
        "id": "eu5pQdwflF5J",
        "outputId": "f03ded8a-449c-4c5e-e667-b46c6554217f"
      },
      "outputs": [],
      "source": [
        "print( isinstance(1.234,float) )"
      ]
    },
    {
      "cell_type": "markdown",
      "metadata": {
        "id": "hAAreR_DlR61"
      },
      "source": []
    },
    {
      "cell_type": "markdown",
      "metadata": {
        "id": "JRYUz2IflXrB"
      },
      "source": [
        "\n",
        "\n",
        "#Signed numbers representation"
      ]
    },
    {
      "cell_type": "code",
      "execution_count": null,
      "metadata": {
        "colab": {
          "base_uri": "https://localhost:8080/"
        },
        "id": "l8tl-u_WlgIX",
        "outputId": "7bdbc18a-c3c6-461b-82d7-b7c4fcfe0df9"
      },
      "outputs": [],
      "source": [
        "a = 8\n",
        "b = ~a # bitwise not\n",
        "\n",
        "print(b)"
      ]
    }
  ],
  "metadata": {
    "colab": {
      "collapsed_sections": [
        "doD1AGLSjLfH"
      ],
      "name": "Programming_LIVE_1.ipynb",
      "provenance": []
    },
    "kernelspec": {
      "display_name": "Python 3",
      "name": "python3"
    },
    "language_info": {
      "codemirror_mode": {
        "name": "ipython",
        "version": 3
      },
      "file_extension": ".py",
      "mimetype": "text/x-python",
      "name": "python",
      "nbconvert_exporter": "python",
      "pygments_lexer": "ipython3",
      "version": "3.12.10"
    }
  },
  "nbformat": 4,
  "nbformat_minor": 0
}
